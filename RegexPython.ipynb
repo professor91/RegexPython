{
  "nbformat": 4,
  "nbformat_minor": 0,
  "metadata": {
    "colab": {
      "provenance": [],
      "collapsed_sections": [
        "Sfv3HkQrD_Wg"
      ],
      "authorship_tag": "ABX9TyN2TQi6Xuc+Q6u3x/u8btdw",
      "include_colab_link": true
    },
    "kernelspec": {
      "name": "python3",
      "display_name": "Python 3"
    },
    "language_info": {
      "name": "python"
    }
  },
  "cells": [
    {
      "cell_type": "markdown",
      "metadata": {
        "id": "view-in-github",
        "colab_type": "text"
      },
      "source": [
        "<a href=\"https://colab.research.google.com/github/professor91/RegexPython/blob/master/RegexPython.ipynb\" target=\"_parent\"><img src=\"https://colab.research.google.com/assets/colab-badge.svg\" alt=\"Open In Colab\"/></a>"
      ]
    },
    {
      "cell_type": "code",
      "execution_count": null,
      "metadata": {
        "id": "W1S_iJPd_fFF"
      },
      "outputs": [],
      "source": [
        "import re"
      ]
    },
    {
      "cell_type": "code",
      "source": [
        "text_to_search='''\n",
        "abcdefghijklmnopqrstuvwzyz\n",
        "ABCDEFGHIJKLMNOPQRSTUVWXYZ\n",
        "1234567890\n",
        "\n",
        "abc\n",
        "\n",
        "Ha HaHa\n",
        "\n",
        "MetaCharacters (Need to be escaped):   use backslash\n",
        ". ^ $ * + ? { } [ ] \\ | ( )\n",
        "\n",
        "coreymn.com\n",
        "\n",
        "321-555-4321\n",
        "123.555.1234\n",
        "\n",
        "Mr. Schafer\n",
        "Mr Smith\n",
        "Ms Davis\n",
        "Mrs. Robinson\n",
        "Mr. T\n",
        "'''\n",
        "\n",
        "sentence= 'Start a sentence And then bring it to an end'"
      ],
      "metadata": {
        "id": "e_xpugyc_iBc"
      },
      "execution_count": null,
      "outputs": []
    },
    {
      "cell_type": "markdown",
      "source": [
        "##Raw string in python\n",
        "\n",
        "Raw string tells python not to handle backslashes (\\) in a special way"
      ],
      "metadata": {
        "id": "Sfv3HkQrD_Wg"
      }
    },
    {
      "cell_type": "code",
      "source": [
        "print(\"\\tTab\")\n",
        "print(r\"\\tTab\")"
      ],
      "metadata": {
        "colab": {
          "base_uri": "https://localhost:8080/"
        },
        "id": "Y9nqgNo9AKVL",
        "outputId": "4468536a-64dc-498f-8583-751157eef9e3"
      },
      "execution_count": null,
      "outputs": [
        {
          "output_type": "stream",
          "name": "stdout",
          "text": [
            "\tTab\n",
            "\\tTab\n"
          ]
        }
      ]
    },
    {
      "cell_type": "markdown",
      "source": [
        "##re.compile('')  and finditer(data)\n",
        "\n",
        "\n",
        "\n",
        "*   compile method seperate out a pattern in a variable --- use that variable to perform multiple searches\n",
        "*   finditer gather all matches in an easy to read format with other functionalities\n",
        "\n",
        "\n",
        "\n",
        "\n",
        "\n"
      ],
      "metadata": {
        "id": "HtDuIFadE5eo"
      }
    },
    {
      "cell_type": "code",
      "source": [
        "pattern = re.compile(r'abc')\n",
        "matches = pattern.finditer(text_to_search)\n",
        "\n",
        "for match in matches:\n",
        "    print(match)"
      ],
      "metadata": {
        "colab": {
          "base_uri": "https://localhost:8080/"
        },
        "id": "HCbLflzYEb3p",
        "outputId": "4712fc29-a050-43d7-c56f-0f4636f1fba6"
      },
      "execution_count": null,
      "outputs": [
        {
          "output_type": "stream",
          "name": "stdout",
          "text": [
            "<re.Match object; span=(116, 117), match='.'>\n",
            "<re.Match object; span=(152, 153), match='.'>\n",
            "<re.Match object; span=(174, 175), match='.'>\n",
            "<re.Match object; span=(178, 179), match='.'>\n",
            "<re.Match object; span=(187, 188), match='.'>\n",
            "<re.Match object; span=(218, 219), match='.'>\n",
            "<re.Match object; span=(231, 232), match='.'>\n"
          ]
        }
      ]
    },
    {
      "cell_type": "markdown",
      "source": [
        "##Regexs"
      ],
      "metadata": {
        "id": "Q2NLv7fyG8An"
      }
    },
    {
      "cell_type": "code",
      "source": [
        "# Regexs\n",
        "\n",
        "# .       - Any Character Except New Line\n",
        "# \\d      - Digit (0-9)\n",
        "# \\D      - Not a Digit (0-9)\n",
        "# \\w      - Word Character (a-z, A-Z, 0-9, _)\n",
        "# \\W      - Not a Word Character\n",
        "# \\s      - Whitespace (space, tab, newline)\n",
        "# \\S      - Not Whitespace (space, tab, newline)\n",
        "\n",
        "# \\b      - Word Boundary    (white space or non alphanumeric character)\n",
        "# \\B      - Not a Word Boundary\n",
        "# ^       - Beginning of a String\n",
        "# $       - End of a String\n",
        "\n",
        "# []      - Matches Characters in brackets\n",
        "# [^ ]    - Matches Characters NOT in brackets\n",
        "# |       - Either Or\n",
        "# ( )     - Group\n",
        "\n",
        "\n",
        "# Quantifiers:\n",
        "# *       - 0 or More\n",
        "# +       - 1 or More\n",
        "# ?       - 0 or One\n",
        "# {3}     - Exact Number\n",
        "# {3,4}   - Range of Numbers (Minimum, Maximum)\n",
        "\n",
        "\n",
        "#### Sample Regexs\n",
        "\n",
        "# [a-zA-Z0-9_.+-]+@[a-zA-Z0-9-]+\\.[a-zA-Z0-9-.]+\n"
      ],
      "metadata": {
        "colab": {
          "base_uri": "https://localhost:8080/"
        },
        "id": "wRdo6wDtEoGd",
        "outputId": "7f53874d-05cd-4748-d9d9-cde5951929a5"
      },
      "execution_count": null,
      "outputs": [
        {
          "output_type": "stream",
          "name": "stdout",
          "text": [
            ".\n"
          ]
        }
      ]
    },
    {
      "cell_type": "markdown",
      "source": [
        "##pattern.sub()"
      ],
      "metadata": {
        "id": "fMX5bLK-yR4O"
      }
    },
    {
      "cell_type": "code",
      "source": [
        "urls= '''\n",
        "https://www.google.com\n",
        "http://coreyms.com\n",
        "https://youtube.com\n",
        "https://www.nasa.gov\n",
        "'''\n",
        "\n",
        "matches= re.compile(r'https?://(www.)?(\\w+)(\\.\\w+)').finditer(urls)\n",
        "# matches\n",
        "\n",
        "print(pattern.sub(r'\\2\\3', urls))"
      ],
      "metadata": {
        "colab": {
          "base_uri": "https://localhost:8080/"
        },
        "id": "OFrJvOK2q2im",
        "outputId": "c58d3b4e-00e7-4a4f-ea22-3d9dc507d032"
      },
      "execution_count": null,
      "outputs": [
        {
          "output_type": "stream",
          "name": "stdout",
          "text": [
            "\n",
            "google.com\n",
            "coreyms.com\n",
            "youtube.com\n",
            "nasa.gov\n",
            "\n"
          ]
        }
      ]
    },
    {
      "cell_type": "markdown",
      "source": [
        "##findall()\n",
        "\n",
        "returns a list of matches"
      ],
      "metadata": {
        "id": "eK_GvIlIyWXI"
      }
    },
    {
      "cell_type": "code",
      "source": [
        "re.compile(r'\\d{3}.\\d{3}.\\d{4}').findall(text_to_search)"
      ],
      "metadata": {
        "colab": {
          "base_uri": "https://localhost:8080/"
        },
        "id": "gmQ2mqRIyaGw",
        "outputId": "6d837998-c0f2-4289-de13-4f305e48898f"
      },
      "execution_count": null,
      "outputs": [
        {
          "output_type": "execute_result",
          "data": {
            "text/plain": [
              "['321-555-4321', '123.555.1234']"
            ]
          },
          "metadata": {},
          "execution_count": 29
        }
      ]
    },
    {
      "cell_type": "markdown",
      "source": [
        "##search()\n",
        "\n",
        "returns a string of first match"
      ],
      "metadata": {
        "id": "zmiCb-xO0gdU"
      }
    },
    {
      "cell_type": "code",
      "source": [
        "re.compile(r'And').search(sentence)"
      ],
      "metadata": {
        "colab": {
          "base_uri": "https://localhost:8080/"
        },
        "id": "o0I591OuzNVS",
        "outputId": "216be07b-6dd7-49dd-d737-52f73778a664"
      },
      "execution_count": null,
      "outputs": [
        {
          "output_type": "execute_result",
          "data": {
            "text/plain": [
              "<re.Match object; span=(17, 20), match='And'>"
            ]
          },
          "metadata": {},
          "execution_count": 35
        }
      ]
    },
    {
      "cell_type": "markdown",
      "source": [
        "##flags\n",
        "\n",
        "\n",
        "*   MULTILINE\n",
        "*   VERBOSE"
      ],
      "metadata": {
        "id": "UeX-tVU-1C49"
      }
    },
    {
      "cell_type": "code",
      "source": [
        "re.compile(r'and', re.IGNORECASE).search(sentence)"
      ],
      "metadata": {
        "colab": {
          "base_uri": "https://localhost:8080/"
        },
        "id": "lpaJqFhN1DUQ",
        "outputId": "8bea9608-a1c0-48c5-b49f-ed73a2613b6a"
      },
      "execution_count": null,
      "outputs": [
        {
          "output_type": "execute_result",
          "data": {
            "text/plain": [
              "<re.Match object; span=(17, 20), match='And'>"
            ]
          },
          "metadata": {},
          "execution_count": 36
        }
      ]
    },
    {
      "cell_type": "code",
      "source": [
        "string= '''\n",
        "1. ae\n",
        "2. sd\n",
        "3. sdg\n",
        "45. afe\n",
        "100. agd\n",
        "'''\n",
        "\n",
        "for i in re.compile(r'\\d{1,3}. ').finditer(string):\n",
        "  print(i)"
      ],
      "metadata": {
        "colab": {
          "base_uri": "https://localhost:8080/"
        },
        "id": "EyiBiUey5PMY",
        "outputId": "6f01c64d-30ea-477b-8316-b1948a9692ef"
      },
      "execution_count": null,
      "outputs": [
        {
          "output_type": "stream",
          "name": "stdout",
          "text": [
            "<re.Match object; span=(1, 4), match='1. '>\n",
            "<re.Match object; span=(7, 10), match='2. '>\n",
            "<re.Match object; span=(13, 16), match='3. '>\n",
            "<re.Match object; span=(20, 24), match='45. '>\n",
            "<re.Match object; span=(28, 33), match='100. '>\n"
          ]
        }
      ]
    }
  ]
}